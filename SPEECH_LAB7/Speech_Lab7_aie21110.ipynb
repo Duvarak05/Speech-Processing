{
 "cells": [
  {
   "cell_type": "code",
   "execution_count": 1,
   "id": "4ebed744-978a-4875-b0ca-d6457fc03989",
   "metadata": {},
   "outputs": [
    {
     "name": "stdout",
     "output_type": "stream",
     "text": [
      "Note: you may need to restart the kernel to use updated packages.Collecting hmmlearn\n",
      "  Downloading hmmlearn-0.3.2-cp39-cp39-win_amd64.whl.metadata (3.0 kB)\n",
      "Requirement already satisfied: numpy>=1.10 in c:\\users\\duvar\\anaconda3\\lib\\site-packages (from hmmlearn) (1.26.2)\n",
      "Requirement already satisfied: scikit-learn!=0.22.0,>=0.16 in c:\\users\\duvar\\anaconda3\\lib\\site-packages (from hmmlearn) (1.3.0)\n",
      "Requirement already satisfied: scipy>=0.19 in c:\\users\\duvar\\anaconda3\\lib\\site-packages (from hmmlearn) (1.11.4)\n",
      "Requirement already satisfied: joblib>=1.1.1 in c:\\users\\duvar\\anaconda3\\lib\\site-packages (from scikit-learn!=0.22.0,>=0.16->hmmlearn) (1.2.0)\n",
      "Requirement already satisfied: threadpoolctl>=2.0.0 in c:\\users\\duvar\\anaconda3\\lib\\site-packages (from scikit-learn!=0.22.0,>=0.16->hmmlearn) (2.2.0)\n",
      "Downloading hmmlearn-0.3.2-cp39-cp39-win_amd64.whl (124 kB)\n",
      "   ---------------------------------------- 0.0/124.5 kB ? eta -:--:--\n",
      "   ---------------------------------------- 0.0/124.5 kB ? eta -:--:--\n",
      "   ---------------------------------------- 0.0/124.5 kB ? eta -:--:--\n",
      "   ---------------------------------------- 0.0/124.5 kB ? eta -:--:--\n",
      "   ---------------------------------------- 0.0/124.5 kB ? eta -:--:--\n",
      "   ---------------------------------------- 0.0/124.5 kB ? eta -:--:--\n",
      "   ---------------------------------------- 0.0/124.5 kB ? eta -:--:--\n",
      "   ---------------------------------------- 0.0/124.5 kB ? eta -:--:--\n",
      "   ---------------------------------------- 0.0/124.5 kB ? eta -:--:--\n",
      "   ---------------------------------------- 0.0/124.5 kB ? eta -:--:--\n",
      "   ---------------------------------------- 0.0/124.5 kB ? eta -:--:--\n",
      "   ---------------------------------------- 0.0/124.5 kB ? eta -:--:--\n",
      "   ---------------------------------------- 0.0/124.5 kB ? eta -:--:--\n",
      "   ---------------------------------------- 0.0/124.5 kB ? eta -:--:--\n",
      "   ---------------------------------------- 0.0/124.5 kB ? eta -:--:--\n",
      "   ---------------------------------------- 0.0/124.5 kB ? eta -:--:--\n",
      "   ---------------------------------------- 0.0/124.5 kB ? eta -:--:--\n",
      "   ---------------------------------------- 0.0/124.5 kB ? eta -:--:--\n",
      "   ---------------------------------------- 0.0/124.5 kB ? eta -:--:--\n",
      "   ---------------------------------------- 0.0/124.5 kB ? eta -:--:--\n",
      "   ---------------------------------------- 0.0/124.5 kB ? eta -:--:--\n",
      "   ---------------------------------------- 0.0/124.5 kB ? eta -:--:--\n",
      "   ---------------------------------------- 0.0/124.5 kB ? eta -:--:--\n",
      "   ---------------------------------------- 0.0/124.5 kB ? eta -:--:--\n",
      "   ---------------------------------------- 0.0/124.5 kB ? eta -:--:--\n",
      "   ---------------------------------------- 0.0/124.5 kB ? eta -:--:--\n",
      "   ---------------------------------------- 0.0/124.5 kB ? eta -:--:--\n",
      "   ---------------------------------------- 0.0/124.5 kB ? eta -:--:--\n",
      "   ---------------------------------------- 0.0/124.5 kB ? eta -:--:--\n",
      "   ---------------------------------------- 0.0/124.5 kB ? eta -:--:--\n",
      "   ---------------------------------------- 0.0/124.5 kB ? eta -:--:--\n",
      "   ---------------------------------------- 0.0/124.5 kB ? eta -:--:--\n",
      "   ---------------------------------------- 0.0/124.5 kB ? eta -:--:--\n",
      "   ---------------------------------------- 0.0/124.5 kB ? eta -:--:--\n",
      "   ---------------------------------------- 0.0/124.5 kB ? eta -:--:--\n",
      "   ---------------------------------------- 0.0/124.5 kB ? eta -:--:--\n",
      "   ---------------------------------------- 0.0/124.5 kB ? eta -:--:--\n",
      "   ---------------------------------------- 0.0/124.5 kB ? eta -:--:--\n",
      "   ---------------------------------------- 0.0/124.5 kB ? eta -:--:--\n",
      "   ---------------------------------------- 0.0/124.5 kB ? eta -:--:--\n",
      "   ---------------------------------------- 0.0/124.5 kB ? eta -:--:--\n",
      "   ---------------------------------------- 0.0/124.5 kB ? eta -:--:--\n",
      "   ---------------------------------------- 0.0/124.5 kB ? eta -:--:--\n",
      "   ---------------------------------------- 0.0/124.5 kB ? eta -:--:--\n",
      "   ---------------------------------------- 0.0/124.5 kB ? eta -:--:--\n",
      "   ---------------------------------------- 0.0/124.5 kB ? eta -:--:--\n",
      "   ---------------------------------------- 0.0/124.5 kB ? eta -:--:--\n",
      "   ---------------------------------------- 0.0/124.5 kB ? eta -:--:--\n",
      "   ---------------------------------------- 0.0/124.5 kB ? eta -:--:--\n",
      "   ---------------------------------------- 0.0/124.5 kB ? eta -:--:--\n",
      "   ---------------------------------------- 0.0/124.5 kB ? eta -:--:--\n",
      "   ---------------------------------------- 0.0/124.5 kB ? eta -:--:--\n",
      "   ---------------------------------------- 0.0/124.5 kB ? eta -:--:--\n",
      "   ---------------------------------------- 0.0/124.5 kB ? eta -:--:--\n",
      "   ---------------------------------------- 0.0/124.5 kB ? eta -:--:--\n",
      "   ---------------------------------------- 0.0/124.5 kB ? eta -:--:--\n",
      "   ---------------------------------------- 0.0/124.5 kB ? eta -:--:--\n",
      "   ---------------------------------------- 0.0/124.5 kB ? eta -:--:--\n",
      "   ---------------------------------------- 0.0/124.5 kB ? eta -:--:--\n",
      "   ---------------------------------------- 0.0/124.5 kB ? eta -:--:--\n",
      "   ---------------------------------------- 0.0/124.5 kB ? eta -:--:--\n",
      "   ---------------------------------------- 0.0/124.5 kB ? eta -:--:--\n",
      "   ---------------------------------------- 0.0/124.5 kB ? eta -:--:--\n",
      "   ---------------------------------------- 0.0/124.5 kB ? eta -:--:--\n",
      "   ---------------------------------------- 0.0/124.5 kB ? eta -:--:--\n",
      "   ---------------------------------------- 0.0/124.5 kB ? eta -:--:--\n",
      "   ---------------------------------------- 0.0/124.5 kB ? eta -:--:--\n",
      "   ---------------------------------------- 0.0/124.5 kB ? eta -:--:--\n",
      "   ---------------------------------------- 0.0/124.5 kB ? eta -:--:--\n",
      "   ---------------------------------------- 0.0/124.5 kB ? eta -:--:--\n",
      "   ---------------------------------------- 0.0/124.5 kB ? eta -:--:--\n",
      "   ---------------------------------------- 0.0/124.5 kB ? eta -:--:--\n",
      "   ---------------------------------------- 0.0/124.5 kB ? eta -:--:--\n",
      "   ---------------------------------------- 0.0/124.5 kB ? eta -:--:--\n",
      "   ---------------------------------------- 0.0/124.5 kB ? eta -:--:--\n",
      "   ---------------------------------------- 0.0/124.5 kB ? eta -:--:--\n",
      "   ---------------------------------------- 0.0/124.5 kB ? eta -:--:--\n",
      "   ---------------------------------------- 0.0/124.5 kB ? eta -:--:--\n",
      "   ---------------------------------------- 0.0/124.5 kB ? eta -:--:--\n",
      "   ---------------------------------------- 0.0/124.5 kB ? eta -:--:--\n",
      "   ---------------------------------------- 0.0/124.5 kB ? eta -:--:--\n",
      "   ---------------------------------------- 0.0/124.5 kB ? eta -:--:--\n",
      "   ---------------------------------------- 0.0/124.5 kB ? eta -:--:--\n",
      "   ---------------------------------------- 0.0/124.5 kB ? eta -:--:--\n",
      "   ---------------------------------------- 0.0/124.5 kB ? eta -:--:--\n",
      "   ---------------------------------------- 0.0/124.5 kB ? eta -:--:--\n",
      "   ---------------------------------------- 0.0/124.5 kB ? eta -:--:--\n",
      "   ---------------------------------------- 0.0/124.5 kB ? eta -:--:--\n",
      "   ---------------------------------------- 0.0/124.5 kB ? eta -:--:--\n",
      "   ---------------------------------------- 0.0/124.5 kB ? eta -:--:--\n",
      "   ---------------------------------------- 0.0/124.5 kB ? eta -:--:--\n",
      "   ---------------------------------------- 0.0/124.5 kB ? eta -:--:--\n",
      "   ---------------------------------------- 0.0/124.5 kB ? eta -:--:--\n",
      "   ---------------------------------------- 0.0/124.5 kB ? eta -:--:--\n",
      "   ---------------------------------------- 0.0/124.5 kB ? eta -:--:--\n",
      "   ---------------------------------------- 0.0/124.5 kB ? eta -:--:--\n",
      "   ---------------------------------------- 0.0/124.5 kB ? eta -:--:--\n",
      "   ---------------------------------------- 0.0/124.5 kB ? eta -:--:--\n",
      "   ---------------------------------------- 0.0/124.5 kB ? eta -:--:--\n",
      "   ---------------------------------------- 0.0/124.5 kB ? eta -:--:--\n",
      "   --- ------------------------------------ 10.2/124.5 kB ? eta -:--:--\n",
      "   --- ------------------------------------ 10.2/124.5 kB ? eta -:--:--\n",
      "   --- ------------------------------------ 10.2/124.5 kB ? eta -:--:--\n",
      "   --- ------------------------------------ 10.2/124.5 kB ? eta -:--:--\n",
      "   --- ------------------------------------ 10.2/124.5 kB ? eta -:--:--\n",
      "   --- ------------------------------------ 10.2/124.5 kB ? eta -:--:--\n",
      "   --- ------------------------------------ 10.2/124.5 kB ? eta -:--:--\n",
      "   --- ------------------------------------ 10.2/124.5 kB ? eta -:--:--\n",
      "   --- ------------------------------------ 10.2/124.5 kB ? eta -:--:--\n",
      "   --- ------------------------------------ 10.2/124.5 kB ? eta -:--:--\n",
      "   --- ------------------------------------ 10.2/124.5 kB ? eta -:--:--\n",
      "   --- ------------------------------------ 10.2/124.5 kB ? eta -:--:--\n",
      "   --- ------------------------------------ 10.2/124.5 kB ? eta -:--:--\n",
      "   --- ------------------------------------ 10.2/124.5 kB ? eta -:--:--\n",
      "   --- ------------------------------------ 10.2/124.5 kB ? eta -:--:--\n",
      "   --- ------------------------------------ 10.2/124.5 kB ? eta -:--:--\n",
      "   --- ------------------------------------ 10.2/124.5 kB ? eta -:--:--\n",
      "   --- ------------------------------------ 10.2/124.5 kB ? eta -:--:--\n",
      "   --- ------------------------------------ 10.2/124.5 kB ? eta -:--:--\n",
      "   --- ------------------------------------ 10.2/124.5 kB ? eta -:--:--\n",
      "   --- ------------------------------------ 10.2/124.5 kB ? eta -:--:--\n",
      "   --- ------------------------------------ 10.2/124.5 kB ? eta -:--:--\n",
      "   --- ------------------------------------ 10.2/124.5 kB ? eta -:--:--\n",
      "   --- ------------------------------------ 10.2/124.5 kB ? eta -:--:--\n",
      "   --- ------------------------------------ 10.2/124.5 kB ? eta -:--:--\n",
      "   --- ------------------------------------ 10.2/124.5 kB ? eta -:--:--\n",
      "   --------- ------------------------------ 30.7/124.5 kB 17.2 kB/s eta 0:00:06\n",
      "   --------- ------------------------------ 30.7/124.5 kB 17.2 kB/s eta 0:00:06\n",
      "   --------- ------------------------------ 30.7/124.5 kB 17.2 kB/s eta 0:00:06\n",
      "   --------- ------------------------------ 30.7/124.5 kB 17.2 kB/s eta 0:00:06\n",
      "   --------- ------------------------------ 30.7/124.5 kB 17.2 kB/s eta 0:00:06\n",
      "   --------- ------------------------------ 30.7/124.5 kB 17.2 kB/s eta 0:00:06\n",
      "   --------- ------------------------------ 30.7/124.5 kB 17.2 kB/s eta 0:00:06\n",
      "   --------- ------------------------------ 30.7/124.5 kB 17.2 kB/s eta 0:00:06\n",
      "   --------- ------------------------------ 30.7/124.5 kB 17.2 kB/s eta 0:00:06\n",
      "   --------- ------------------------------ 30.7/124.5 kB 17.2 kB/s eta 0:00:06\n",
      "   --------- ------------------------------ 30.7/124.5 kB 17.2 kB/s eta 0:00:06\n",
      "   --------- ------------------------------ 30.7/124.5 kB 17.2 kB/s eta 0:00:06\n",
      "   --------- ------------------------------ 30.7/124.5 kB 17.2 kB/s eta 0:00:06\n",
      "   --------- ------------------------------ 30.7/124.5 kB 17.2 kB/s eta 0:00:06\n",
      "   --------- ------------------------------ 30.7/124.5 kB 17.2 kB/s eta 0:00:06\n",
      "   --------- ------------------------------ 30.7/124.5 kB 17.2 kB/s eta 0:00:06\n",
      "   --------- ------------------------------ 30.7/124.5 kB 17.2 kB/s eta 0:00:06\n",
      "   --------- ------------------------------ 30.7/124.5 kB 17.2 kB/s eta 0:00:06\n",
      "   --------- ------------------------------ 30.7/124.5 kB 17.2 kB/s eta 0:00:06\n",
      "   --------- ------------------------------ 30.7/124.5 kB 17.2 kB/s eta 0:00:06\n",
      "   --------- ------------------------------ 30.7/124.5 kB 17.2 kB/s eta 0:00:06\n",
      "   --------- ------------------------------ 30.7/124.5 kB 17.2 kB/s eta 0:00:06\n",
      "   --------- ------------------------------ 30.7/124.5 kB 17.2 kB/s eta 0:00:06\n",
      "   --------- ------------------------------ 30.7/124.5 kB 17.2 kB/s eta 0:00:06\n",
      "   --------- ------------------------------ 30.7/124.5 kB 17.2 kB/s eta 0:00:06\n",
      "   --------- ------------------------------ 30.7/124.5 kB 17.2 kB/s eta 0:00:06\n",
      "   --------- ------------------------------ 30.7/124.5 kB 17.2 kB/s eta 0:00:06\n",
      "   --------- ------------------------------ 30.7/124.5 kB 17.2 kB/s eta 0:00:06\n",
      "   --------- ------------------------------ 30.7/124.5 kB 17.2 kB/s eta 0:00:06\n",
      "   ------------- -------------------------- 41.0/124.5 kB 12.2 kB/s eta 0:00:07\n",
      "   ------------- -------------------------- 41.0/124.5 kB 12.2 kB/s eta 0:00:07\n",
      "   ------------- -------------------------- 41.0/124.5 kB 12.2 kB/s eta 0:00:07\n",
      "   ------------- -------------------------- 41.0/124.5 kB 12.2 kB/s eta 0:00:07\n",
      "   ------------- -------------------------- 41.0/124.5 kB 12.2 kB/s eta 0:00:07\n",
      "   ------------- -------------------------- 41.0/124.5 kB 12.2 kB/s eta 0:00:07\n",
      "   ------------- -------------------------- 41.0/124.5 kB 12.2 kB/s eta 0:00:07\n",
      "   ------------- -------------------------- 41.0/124.5 kB 12.2 kB/s eta 0:00:07\n",
      "   ------------- -------------------------- 41.0/124.5 kB 12.2 kB/s eta 0:00:07\n",
      "   ------------- -------------------------- 41.0/124.5 kB 12.2 kB/s eta 0:00:07\n",
      "   ------------- -------------------------- 41.0/124.5 kB 12.2 kB/s eta 0:00:07\n",
      "   ------------- -------------------------- 41.0/124.5 kB 12.2 kB/s eta 0:00:07\n",
      "   ------------- -------------------------- 41.0/124.5 kB 12.2 kB/s eta 0:00:07\n",
      "   ------------- -------------------------- 41.0/124.5 kB 12.2 kB/s eta 0:00:07\n",
      "   ------------- -------------------------- 41.0/124.5 kB 12.2 kB/s eta 0:00:07\n",
      "   ------------- -------------------------- 41.0/124.5 kB 12.2 kB/s eta 0:00:07\n",
      "   ------------- -------------------------- 41.0/124.5 kB 12.2 kB/s eta 0:00:07\n",
      "   ------------- -------------------------- 41.0/124.5 kB 12.2 kB/s eta 0:00:07\n",
      "   ------------- -------------------------- 41.0/124.5 kB 12.2 kB/s eta 0:00:07\n",
      "   ------------- -------------------------- 41.0/124.5 kB 12.2 kB/s eta 0:00:07\n",
      "   ------------- -------------------------- 41.0/124.5 kB 12.2 kB/s eta 0:00:07\n",
      "   ------------------- -------------------- 61.4/124.5 kB 14.7 kB/s eta 0:00:05\n",
      "   ------------------- -------------------- 61.4/124.5 kB 14.7 kB/s eta 0:00:05\n",
      "   ------------------- -------------------- 61.4/124.5 kB 14.7 kB/s eta 0:00:05\n",
      "   ------------------- -------------------- 61.4/124.5 kB 14.7 kB/s eta 0:00:05\n",
      "   ------------------- -------------------- 61.4/124.5 kB 14.7 kB/s eta 0:00:05\n",
      "   ------------------- -------------------- 61.4/124.5 kB 14.7 kB/s eta 0:00:05\n",
      "   ------------------- -------------------- 61.4/124.5 kB 14.7 kB/s eta 0:00:05\n",
      "   ------------------- -------------------- 61.4/124.5 kB 14.7 kB/s eta 0:00:05\n",
      "   ------------------- -------------------- 61.4/124.5 kB 14.7 kB/s eta 0:00:05\n",
      "   ------------------- -------------------- 61.4/124.5 kB 14.7 kB/s eta 0:00:05\n",
      "   ------------------- -------------------- 61.4/124.5 kB 14.7 kB/s eta 0:00:05\n",
      "   ------------------- -------------------- 61.4/124.5 kB 14.7 kB/s eta 0:00:05\n",
      "   ------------------- -------------------- 61.4/124.5 kB 14.7 kB/s eta 0:00:05\n",
      "   ------------------- -------------------- 61.4/124.5 kB 14.7 kB/s eta 0:00:05\n",
      "   ------------------- -------------------- 61.4/124.5 kB 14.7 kB/s eta 0:00:05\n",
      "   ------------------- -------------------- 61.4/124.5 kB 14.7 kB/s eta 0:00:05\n",
      "   ------------------- -------------------- 61.4/124.5 kB 14.7 kB/s eta 0:00:05\n",
      "   ------------------- -------------------- 61.4/124.5 kB 14.7 kB/s eta 0:00:05\n",
      "   ------------------- -------------------- 61.4/124.5 kB 14.7 kB/s eta 0:00:05\n",
      "   ------------------- -------------------- 61.4/124.5 kB 14.7 kB/s eta 0:00:05\n",
      "   -------------------------- ------------- 81.9/124.5 kB 16.2 kB/s eta 0:00:03\n",
      "   -------------------------- ------------- 81.9/124.5 kB 16.2 kB/s eta 0:00:03\n",
      "   -------------------------- ------------- 81.9/124.5 kB 16.2 kB/s eta 0:00:03\n",
      "   -------------------------- ------------- 81.9/124.5 kB 16.2 kB/s eta 0:00:03\n",
      "   -------------------------- ------------- 81.9/124.5 kB 16.2 kB/s eta 0:00:03\n",
      "   -------------------------- ------------- 81.9/124.5 kB 16.2 kB/s eta 0:00:03\n",
      "   -------------------------- ------------- 81.9/124.5 kB 16.2 kB/s eta 0:00:03\n",
      "   -------------------------- ------------- 81.9/124.5 kB 16.2 kB/s eta 0:00:03\n",
      "   -------------------------- ------------- 81.9/124.5 kB 16.2 kB/s eta 0:00:03\n",
      "   -------------------------- ------------- 81.9/124.5 kB 16.2 kB/s eta 0:00:03\n",
      "   -------------------------- ------------- 81.9/124.5 kB 16.2 kB/s eta 0:00:03\n",
      "   -------------------------- ------------- 81.9/124.5 kB 16.2 kB/s eta 0:00:03\n",
      "   -------------------------- ------------- 81.9/124.5 kB 16.2 kB/s eta 0:00:03\n",
      "   ----------------------------- ---------- 92.2/124.5 kB 16.3 kB/s eta 0:00:02\n",
      "   ----------------------------- ---------- 92.2/124.5 kB 16.3 kB/s eta 0:00:02\n",
      "   ----------------------------- ---------- 92.2/124.5 kB 16.3 kB/s eta 0:00:02\n",
      "   ----------------------------- ---------- 92.2/124.5 kB 16.3 kB/s eta 0:00:02\n",
      "   ----------------------------- ---------- 92.2/124.5 kB 16.3 kB/s eta 0:00:02\n",
      "   ----------------------------- ---------- 92.2/124.5 kB 16.3 kB/s eta 0:00:02\n",
      "   ----------------------------- ---------- 92.2/124.5 kB 16.3 kB/s eta 0:00:02\n",
      "   ----------------------------- ---------- 92.2/124.5 kB 16.3 kB/s eta 0:00:02\n",
      "   ----------------------------- ---------- 92.2/124.5 kB 16.3 kB/s eta 0:00:02\n",
      "   ----------------------------- ---------- 92.2/124.5 kB 16.3 kB/s eta 0:00:02\n",
      "   ----------------------------- ---------- 92.2/124.5 kB 16.3 kB/s eta 0:00:02\n",
      "   ----------------------------- ---------- 92.2/124.5 kB 16.3 kB/s eta 0:00:02\n",
      "   ----------------------------- ---------- 92.2/124.5 kB 16.3 kB/s eta 0:00:02\n",
      "   --------------------------------------- 124.5/124.5 kB 20.3 kB/s eta 0:00:00\n",
      "Installing collected packages: hmmlearn\n",
      "Successfully installed hmmlearn-0.3.2\n",
      "\n"
     ]
    },
    {
     "name": "stderr",
     "output_type": "stream",
     "text": [
      "WARNING: Ignoring invalid distribution -atplotlib (c:\\users\\duvar\\anaconda3\\lib\\site-packages)\n",
      "WARNING: Ignoring invalid distribution -atplotlib (c:\\users\\duvar\\anaconda3\\lib\\site-packages)\n"
     ]
    }
   ],
   "source": [
    "pip install hmmlearn"
   ]
  },
  {
   "cell_type": "code",
   "execution_count": 2,
   "id": "d99e7c8a-f894-4fa0-b28f-e5aefbaec931",
   "metadata": {},
   "outputs": [],
   "source": [
    "# Importing Libraries\n",
    "import numpy as np\n",
    "import librosa\n",
    "from hmmlearn import hmm"
   ]
  },
  {
   "cell_type": "code",
   "execution_count": 3,
   "id": "61775b11-2862-46b9-be83-c9e556510976",
   "metadata": {},
   "outputs": [],
   "source": [
    "def extract_features(audio_file, n_mfcc=13, hop_length=512):\n",
    "    # Load audio file\n",
    "    y, sr = librosa.load(audio_file)\n",
    "\n",
    "    # Extract STFT features\n",
    "    stft = np.abs(librosa.stft(y, hop_length=hop_length))\n",
    "    mfccs = librosa.feature.mfcc(y=y, sr=sr, n_mfcc=n_mfcc, hop_length=hop_length)\n",
    "\n",
    "    # Concatenate STFT and MFCC features\n",
    "    features = np.vstack((stft, mfccs))\n",
    "\n",
    "    return features.T"
   ]
  },
  {
   "cell_type": "code",
   "execution_count": 4,
   "id": "b3033c78-061f-4658-8560-9c8efb1b37cb",
   "metadata": {},
   "outputs": [],
   "source": [
    "def train_hmm(features, n_components=3, n_iter=100):\n",
    "    model = hmm.GaussianHMM(n_components=n_components, covariance_type=\"diag\", n_iter=n_iter)\n",
    "    model.fit(features)\n",
    "    return model"
   ]
  },
  {
   "cell_type": "code",
   "execution_count": 5,
   "id": "7e866b5e-4f90-4b7f-991e-bba012c53a72",
   "metadata": {},
   "outputs": [],
   "source": [
    "def classify_speech(audio_file, model):\n",
    "    features = extract_features(audio_file)\n",
    "    log_likelihood = model.score(features)\n",
    "    return log_likelihood"
   ]
  },
  {
   "cell_type": "code",
   "execution_count": 7,
   "id": "8dcf6227-0862-4c5a-b83d-fdfc3047f79c",
   "metadata": {},
   "outputs": [
    {
     "name": "stdout",
     "output_type": "stream",
     "text": [
      "Training HMM model1...\n"
     ]
    },
    {
     "name": "stderr",
     "output_type": "stream",
     "text": [
      "C:\\Users\\duvar\\anaconda3\\lib\\site-packages\\sklearn\\cluster\\_kmeans.py:1436: UserWarning: KMeans is known to have a memory leak on Windows with MKL, when there are less chunks than available threads. You can avoid it by setting the environment variable OMP_NUM_THREADS=1.\n",
      "  warnings.warn(\n",
      "C:\\Users\\duvar\\anaconda3\\lib\\site-packages\\sklearn\\cluster\\_kmeans.py:1436: UserWarning: KMeans is known to have a memory leak on Windows with MKL, when there are less chunks than available threads. You can avoid it by setting the environment variable OMP_NUM_THREADS=2.\n",
      "  warnings.warn(\n"
     ]
    },
    {
     "name": "stdout",
     "output_type": "stream",
     "text": [
      "HMM model trained successfully.\n"
     ]
    }
   ],
   "source": [
    "# Example of training\n",
    "train_1 = \"speech1.wav\" # Path to training audio file\n",
    "train_2 = \"colors.wav\"\n",
    "print(\"Training HMM model1...\")\n",
    "train_features1 = extract_features(train_1)\n",
    "train_features2 = extract_features(train_2)\n",
    "hmm_model = train_hmm(train_features1)\n",
    "hmm_model = train_hmm(train_features2)\n",
    "print(\"HMM model trained successfully.\")\n"
   ]
  },
  {
   "cell_type": "code",
   "execution_count": 9,
   "id": "931ac176-65ed-4384-b944-b5d176ae52d7",
   "metadata": {},
   "outputs": [
    {
     "name": "stdout",
     "output_type": "stream",
     "text": [
      "Classifying test file...\n",
      "Log Likelihood for test data: 180531.59161734366\n"
     ]
    }
   ],
   "source": [
    "# Example of classification\n",
    "test_file = \"statement.wav\"  # Path to /test audio file\n",
    "print(\"Classifying test file...\")\n",
    "likelihood = classify_speech(test_file, hmm_model)\n",
    "print(\"Log Likelihood for test data:\", likelihood)"
   ]
  },
  {
   "cell_type": "code",
   "execution_count": 12,
   "id": "4e125466-cfbd-4d43-b479-a8f315be2046",
   "metadata": {},
   "outputs": [
    {
     "name": "stdout",
     "output_type": "stream",
     "text": [
      "Predicting labels for new data...\n",
      "Predicted labels for new data: [1 1 1 1 1 1 1 1 1 1 1 1 1 1 1 1 1 1 1 1 0 2 2 2 2 2 2 2 2 2 2 2 2 2 0 0 0\n",
      " 0 0 0 0 1 1 1 1 1 0 0 0 0 0 0 0 0 0 1 1 1 1 1 0 0 0 1 1 1 1 0 0 0 2 2 2 2\n",
      " 2 2 0 0 0 0 0 0 0 0 0 1 0 2 2 0 0 0 2 2 0 0 1 1 0 0 0 0 0 0 0 0 1 1 1 1 1\n",
      " 1 0 0 0 0 0 0 0 1 1 1 1 1 1 1 1 1 1 1 1 1 1 1 1 1 1 1 1 1 1 1]\n"
     ]
    }
   ],
   "source": [
    "print(\"Predicting labels for new data...\")\n",
    "new_likelihood = classify_speech(test_file, hmm_model)\n",
    "predicted_label =hmm_model.predict(extract_features(test_file))\n",
    "print(\"Predicted labels for new data:\", predicted_label)"
   ]
  },
  {
   "cell_type": "code",
   "execution_count": 15,
   "id": "f4ba050b-f2a4-4e22-acf3-ef76bcbbf418",
   "metadata": {},
   "outputs": [
    {
     "data": {
      "image/png": "[encoded data removed]",
      "text/plain": [
       "<Figure size 1000x600 with 1 Axes>"
      ]
     },
     "metadata": {},
     "output_type": "display_data"
    }
   ],
   "source": [
    "import matplotlib.pyplot as plt\n",
    "plt.figure(figsize=(10,6))\n",
    "plt.title('State Sequence Predicted by HMM')\n",
    "plt.plot(predicted_label)\n",
    "plt.xlabel('Time Frame')\n",
    "plt.ylabel('State')\n",
    "plt.show()"
   ]
  }
 ],
 "metadata": {
  "kernelspec": {
   "display_name": "Python 3 (ipykernel)",
   "language": "python",
   "name": "python3"
  },
  "language_info": {
   "codemirror_mode": {
    "name": "ipython",
    "version": 3
   },
   "file_extension": ".py",
   "mimetype": "text/x-python",
   "name": "python",
   "nbconvert_exporter": "python",
   "pygments_lexer": "ipython3",
   "version": "3.9.7"
  }
 },
 "nbformat": 4,
 "nbformat_minor": 5
}
